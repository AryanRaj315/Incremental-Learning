{
 "cells": [
  {
   "cell_type": "code",
   "execution_count": 1,
   "metadata": {},
   "outputs": [],
   "source": [
    "import sys\n",
    "sys.path.insert(0, 'icarl/')"
   ]
  },
  {
   "cell_type": "code",
   "execution_count": 43,
   "metadata": {},
   "outputs": [],
   "source": [
    "import os\n",
    "import pandas as pd\n",
    "import cv2\n",
    "import matplotlib.pyplot as plt\n",
    "import numpy as np"
   ]
  },
  {
   "cell_type": "code",
   "execution_count": 1,
   "metadata": {
    "collapsed": true
   },
   "outputs": [
    {
     "name": "stdout",
     "output_type": "stream",
     "text": [
      "Loaded pretrained weights for efficientnet-b2\n",
      "Loading training examples for classes range(0, 10)\n",
      "Files already downloaded and verified\n",
      "Files already downloaded and verified\n",
      "9 new classes\n",
      "/opt/conda/envs/fastai/lib/python3.7/site-packages/torch/nn/functional.py:1351: UserWarning: nn.functional.sigmoid is deprecated. Use torch.sigmoid instead.\n",
      "  warnings.warn(\"nn.functional.sigmoid is deprecated. Use torch.sigmoid instead.\")\n",
      "Epoch [1/50], Iter [10/500] Loss: 2.2793\n",
      "Epoch [1/50], Iter [20/500] Loss: 1.7992\n",
      "Epoch [1/50], Iter [30/500] Loss: 1.3919\n",
      "Epoch [1/50], Iter [40/500] Loss: 1.4362\n",
      "Epoch [1/50], Iter [50/500] Loss: 1.2063\n",
      "Epoch [1/50], Iter [60/500] Loss: 1.2568\n",
      "Epoch [1/50], Iter [70/500] Loss: 1.2894\n",
      "Epoch [1/50], Iter [80/500] Loss: 1.0303\n",
      "Epoch [1/50], Iter [90/500] Loss: 1.2358\n",
      "Epoch [1/50], Iter [100/500] Loss: 1.0256\n",
      "Epoch [1/50], Iter [110/500] Loss: 1.0287\n",
      "Epoch [1/50], Iter [120/500] Loss: 0.7560\n",
      "Epoch [1/50], Iter [130/500] Loss: 0.9472\n",
      "Epoch [1/50], Iter [140/500] Loss: 0.9470\n",
      "Epoch [1/50], Iter [150/500] Loss: 0.9499\n",
      "Epoch [1/50], Iter [160/500] Loss: 0.8026\n",
      "Epoch [1/50], Iter [170/500] Loss: 0.7117\n",
      "Epoch [1/50], Iter [180/500] Loss: 0.9098\n",
      "Epoch [1/50], Iter [190/500] Loss: 0.7847\n",
      "Epoch [1/50], Iter [200/500] Loss: 0.7480\n",
      "Epoch [1/50], Iter [210/500] Loss: 0.8208\n",
      "Epoch [1/50], Iter [220/500] Loss: 1.0074\n",
      "Epoch [1/50], Iter [230/500] Loss: 0.7551\n",
      "Epoch [1/50], Iter [240/500] Loss: 0.8517\n",
      "Epoch [1/50], Iter [250/500] Loss: 0.9401\n",
      "Epoch [1/50], Iter [260/500] Loss: 0.8398\n",
      "Epoch [1/50], Iter [270/500] Loss: 0.7817\n",
      "Epoch [1/50], Iter [280/500] Loss: 0.7181\n",
      "Epoch [1/50], Iter [290/500] Loss: 0.7000\n",
      "Epoch [1/50], Iter [300/500] Loss: 0.6389\n",
      "Epoch [1/50], Iter [310/500] Loss: 0.8306\n",
      "Epoch [1/50], Iter [320/500] Loss: 0.6324\n",
      "Epoch [1/50], Iter [330/500] Loss: 0.7405\n",
      "Epoch [1/50], Iter [340/500] Loss: 0.6601\n",
      "Epoch [1/50], Iter [350/500] Loss: 0.7290\n",
      "Epoch [1/50], Iter [360/500] Loss: 0.6069\n",
      "Epoch [1/50], Iter [370/500] Loss: 0.6289\n",
      "Epoch [1/50], Iter [380/500] Loss: 0.6288\n",
      "Epoch [1/50], Iter [390/500] Loss: 0.7604\n",
      "Epoch [1/50], Iter [400/500] Loss: 0.6422\n",
      "Epoch [1/50], Iter [410/500] Loss: 0.6670\n",
      "Epoch [1/50], Iter [420/500] Loss: 0.5092\n",
      "Epoch [1/50], Iter [430/500] Loss: 0.5518\n",
      "Epoch [1/50], Iter [440/500] Loss: 0.8148\n",
      "Epoch [1/50], Iter [450/500] Loss: 0.8393\n",
      "Epoch [1/50], Iter [460/500] Loss: 0.5661\n",
      "Epoch [1/50], Iter [470/500] Loss: 0.4604\n",
      "Epoch [1/50], Iter [480/500] Loss: 0.5264\n",
      "Epoch [1/50], Iter [490/500] Loss: 0.6896\n",
      "Epoch [1/50], Iter [500/500] Loss: 0.5618\n",
      "Epoch [2/50], Iter [10/500] Loss: 0.5643\n",
      "Epoch [2/50], Iter [20/500] Loss: 0.4093\n",
      "Epoch [2/50], Iter [30/500] Loss: 0.5354\n",
      "Epoch [2/50], Iter [40/500] Loss: 0.4155\n",
      "Epoch [2/50], Iter [50/500] Loss: 0.4367\n",
      "Epoch [2/50], Iter [60/500] Loss: 0.7092\n",
      "Epoch [2/50], Iter [70/500] Loss: 0.5900\n",
      "Epoch [2/50], Iter [80/500] Loss: 0.7169\n",
      "Epoch [2/50], Iter [90/500] Loss: 0.8577\n",
      "Epoch [2/50], Iter [100/500] Loss: 0.8488\n",
      "^C\n",
      "Traceback (most recent call last):\n",
      "  File \"ICARL/main.py\", line 77, in <module>\n",
      "    icarl.update_representation(train_set)\n",
      "  File \"/notebooks/IncrementalLearning/ICARL/model.py\", line 217, in update_representation\n",
      "    loss.backward()\n",
      "  File \"/opt/conda/envs/fastai/lib/python3.7/site-packages/torch/tensor.py\", line 195, in backward\n",
      "    torch.autograd.backward(self, gradient, retain_graph, create_graph)\n",
      "  File \"/opt/conda/envs/fastai/lib/python3.7/site-packages/torch/autograd/__init__.py\", line 99, in backward\n",
      "    allow_unreachable=True)  # allow_unreachable flag\n",
      "KeyboardInterrupt\n"
     ]
    }
   ],
   "source": [
    "!python ICARL/main.py"
   ]
  },
  {
   "cell_type": "code",
   "execution_count": 4,
   "metadata": {},
   "outputs": [
    {
     "name": "stdout",
     "output_type": "stream",
     "text": [
      "Downloading digit-recognizer.zip to /notebooks/IncrementalLearning\n",
      " 98%|█████████████████████████████████████▏| 15.0M/15.3M [00:00<00:00, 31.8MB/s]\n",
      "100%|██████████████████████████████████████| 15.3M/15.3M [00:00<00:00, 49.5MB/s]\n"
     ]
    }
   ],
   "source": [
    "!kaggle competitions download -c digit-recognizer"
   ]
  },
  {
   "cell_type": "code",
   "execution_count": 33,
   "metadata": {},
   "outputs": [],
   "source": [
    "train = pd.read_csv(\"train.csv\")\n",
    "test = pd.read_csv(\"test.csv\")"
   ]
  },
  {
   "cell_type": "code",
   "execution_count": 34,
   "metadata": {},
   "outputs": [],
   "source": [
    "Y_train = train[\"label\"]\n",
    "\n",
    "# Drop 'label' column\n",
    "X_train = train.drop(labels = [\"label\"],axis = 1) "
   ]
  },
  {
   "cell_type": "code",
   "execution_count": 47,
   "metadata": {},
   "outputs": [],
   "source": [
    "X_train = X_train / 255.0\n",
    "test = test / 255.0"
   ]
  },
  {
   "cell_type": "code",
   "execution_count": 35,
   "metadata": {},
   "outputs": [],
   "source": [
    "X_train = X_train.values.reshape(-1,28,28,1)\n",
    "test = test.values.reshape(-1,28,28,1)"
   ]
  },
  {
   "cell_type": "code",
   "execution_count": 36,
   "metadata": {},
   "outputs": [
    {
     "data": {
      "text/plain": [
       "(42000, 28, 28, 1)"
      ]
     },
     "execution_count": 36,
     "metadata": {},
     "output_type": "execute_result"
    }
   ],
   "source": [
    "X_train.shape"
   ]
  },
  {
   "cell_type": "code",
   "execution_count": 37,
   "metadata": {},
   "outputs": [
    {
     "data": {
      "text/plain": [
       "(28, 28)"
      ]
     },
     "execution_count": 37,
     "metadata": {},
     "output_type": "execute_result"
    }
   ],
   "source": [
    "X_train[0][:,:,0].shape"
   ]
  },
  {
   "cell_type": "code",
   "execution_count": 48,
   "metadata": {},
   "outputs": [],
   "source": [
    "gray = X_train[18][:,:,0].astype(np.float32)"
   ]
  },
  {
   "cell_type": "code",
   "execution_count": 49,
   "metadata": {},
   "outputs": [
    {
     "data": {
      "text/plain": [
       "<matplotlib.image.AxesImage at 0x7f9179399e50>"
      ]
     },
     "execution_count": 49,
     "metadata": {},
     "output_type": "execute_result"
    },
    {
     "data": {
      "image/png": "[encoded data removed]",
      "text/plain": [
       "<Figure size 432x288 with 1 Axes>"
      ]
     },
     "metadata": {
      "needs_background": "light"
     },
     "output_type": "display_data"
    }
   ],
   "source": [
    "color = cv2.cvtColor(gray,cv2.COLOR_GRAY2RGB)\n",
    "plt.imshow(color)"
   ]
  },
  {
   "cell_type": "code",
   "execution_count": null,
   "metadata": {},
   "outputs": [],
   "source": []
  },
  {
   "cell_type": "code",
   "execution_count": null,
   "metadata": {},
   "outputs": [],
   "source": []
  }
 ],
 "metadata": {
  "kernelspec": {
   "display_name": "Python 3",
   "language": "python",
   "name": "python3"
  },
  "language_info": {
   "codemirror_mode": {
    "name": "ipython",
    "version": 3
   },
   "file_extension": ".py",
   "mimetype": "text/x-python",
   "name": "python",
   "nbconvert_exporter": "python",
   "pygments_lexer": "ipython3",
   "version": "3.7.6"
  }
 },
 "nbformat": 4,
 "nbformat_minor": 4
}
