{
 "cells": [
  {
   "cell_type": "code",
   "execution_count": 1,
   "metadata": {},
   "outputs": [],
   "source": [
    "import sys\n",
    "sys.path.insert(0, 'icarl/')"
   ]
  },
  {
   "cell_type": "code",
   "execution_count": 1,
   "metadata": {},
   "outputs": [],
   "source": [
    "import os\n",
    "import pandas as pd\n",
    "import cv2\n",
    "import matplotlib.pyplot as plt\n",
    "import numpy as np"
   ]
  },
  {
   "cell_type": "code",
   "execution_count": null,
   "metadata": {},
   "outputs": [
    {
     "name": "stdout",
     "output_type": "stream",
     "text": [
      "Loading training examples for classes range(0, 3)\n",
      "0 new classes\n",
      "Epoch [1/50], Iter [100/129] Loss: 0.0522\n",
      "Epoch [2/50], Iter [100/129] Loss: 0.0142\n",
      "Epoch [3/50], Iter [100/129] Loss: 0.0015\n",
      "Epoch [4/50], Iter [100/129] Loss: 0.0451\n",
      "Epoch [5/50], Iter [100/129] Loss: 0.0174\n",
      "Epoch [6/50], Iter [100/129] Loss: 0.0038\n",
      "Epoch [7/50], Iter [100/129] Loss: 0.0095\n",
      "Epoch [8/50], Iter [100/129] Loss: 0.0015\n",
      "Epoch [9/50], Iter [100/129] Loss: 0.0010\n",
      "Epoch [10/50], Iter [100/129] Loss: 0.0042\n",
      "Epoch [11/50], Iter [100/129] Loss: 0.0216\n",
      "Epoch [12/50], Iter [100/129] Loss: 0.0002\n",
      "Epoch [13/50], Iter [100/129] Loss: 0.0001\n",
      "Epoch [14/50], Iter [100/129] Loss: 0.0017\n",
      "Epoch [15/50], Iter [100/129] Loss: 0.0022\n",
      "Epoch [16/50], Iter [100/129] Loss: 0.0013\n",
      "Epoch [17/50], Iter [100/129] Loss: 0.0032\n",
      "Epoch [18/50], Iter [100/129] Loss: 0.0001\n",
      "Epoch [19/50], Iter [100/129] Loss: 0.0005\n",
      "Epoch [20/50], Iter [100/129] Loss: 0.0003\n",
      "Epoch [21/50], Iter [100/129] Loss: 0.0013\n",
      "Epoch [22/50], Iter [100/129] Loss: 0.0025\n",
      "Epoch [23/50], Iter [100/129] Loss: 0.0009\n",
      "Epoch [24/50], Iter [100/129] Loss: 0.0016\n",
      "Epoch [25/50], Iter [100/129] Loss: 0.0016\n"
     ]
    }
   ],
   "source": [
    "!python ICARL/main.py"
   ]
  },
  {
   "cell_type": "code",
   "execution_count": 4,
   "metadata": {},
   "outputs": [
    {
     "name": "stdout",
     "output_type": "stream",
     "text": [
      "Downloading digit-recognizer.zip to /notebooks/IncrementalLearning\n",
      " 98%|█████████████████████████████████████▏| 15.0M/15.3M [00:00<00:00, 31.8MB/s]\n",
      "100%|██████████████████████████████████████| 15.3M/15.3M [00:00<00:00, 49.5MB/s]\n"
     ]
    }
   ],
   "source": [
    "!kaggle competitions download -c digit-recognizer"
   ]
  },
  {
   "cell_type": "code",
   "execution_count": 33,
   "metadata": {},
   "outputs": [],
   "source": [
    "train = pd.read_csv(\"train.csv\")\n",
    "test = pd.read_csv(\"test.csv\")"
   ]
  },
  {
   "cell_type": "code",
   "execution_count": 34,
   "metadata": {},
   "outputs": [],
   "source": [
    "Y_train = train[\"label\"]\n",
    "\n",
    "# Drop 'label' column\n",
    "X_train = train.drop(labels = [\"label\"],axis = 1) "
   ]
  },
  {
   "cell_type": "code",
   "execution_count": 47,
   "metadata": {},
   "outputs": [],
   "source": [
    "X_train = X_train / 255.0\n",
    "test = test / 255.0"
   ]
  },
  {
   "cell_type": "code",
   "execution_count": 35,
   "metadata": {},
   "outputs": [],
   "source": [
    "X_train = X_train.values.reshape(-1,28,28,1)\n",
    "test = test.values.reshape(-1,28,28,1)"
   ]
  },
  {
   "cell_type": "code",
   "execution_count": 36,
   "metadata": {},
   "outputs": [
    {
     "data": {
      "text/plain": [
       "(42000, 28, 28, 1)"
      ]
     },
     "execution_count": 36,
     "metadata": {},
     "output_type": "execute_result"
    }
   ],
   "source": [
    "X_train.shape"
   ]
  },
  {
   "cell_type": "code",
   "execution_count": 37,
   "metadata": {},
   "outputs": [
    {
     "data": {
      "text/plain": [
       "(28, 28)"
      ]
     },
     "execution_count": 37,
     "metadata": {},
     "output_type": "execute_result"
    }
   ],
   "source": [
    "X_train[0][:,:,0].shape"
   ]
  },
  {
   "cell_type": "code",
   "execution_count": 48,
   "metadata": {},
   "outputs": [],
   "source": [
    "gray = X_train[18][:,:,0].astype(np.float32)"
   ]
  },
  {
   "cell_type": "code",
   "execution_count": 49,
   "metadata": {},
   "outputs": [
    {
     "data": {
      "text/plain": [
       "<matplotlib.image.AxesImage at 0x7f9179399e50>"
      ]
     },
     "execution_count": 49,
     "metadata": {},
     "output_type": "execute_result"
    },
    {
     "data": {
      "image/png": "[encoded data removed]",
      "text/plain": [
       "<Figure size 432x288 with 1 Axes>"
      ]
     },
     "metadata": {
      "needs_background": "light"
     },
     "output_type": "display_data"
    }
   ],
   "source": [
    "color = cv2.cvtColor(gray,cv2.COLOR_GRAY2RGB)\n",
    "plt.imshow(color)"
   ]
  },
  {
   "cell_type": "code",
   "execution_count": null,
   "metadata": {},
   "outputs": [],
   "source": []
  },
  {
   "cell_type": "code",
   "execution_count": null,
   "metadata": {},
   "outputs": [],
   "source": []
  }
 ],
 "metadata": {
  "kernelspec": {
   "display_name": "Python 3",
   "language": "python",
   "name": "python3"
  },
  "language_info": {
   "codemirror_mode": {
    "name": "ipython",
    "version": 3
   },
   "file_extension": ".py",
   "mimetype": "text/x-python",
   "name": "python",
   "nbconvert_exporter": "python",
   "pygments_lexer": "ipython3",
   "version": "3.7.6"
  }
 },
 "nbformat": 4,
 "nbformat_minor": 4
}
